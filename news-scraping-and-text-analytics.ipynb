{
 "cells": [
  {
   "cell_type": "markdown",
   "metadata": {},
   "source": [
    "# News scraping and Text Analytics (Sentiment Analysis)"
   ]
  },
  {
   "cell_type": "markdown",
   "metadata": {},
   "source": [
    "News headlines scraping from Yahoo.com.hk."
   ]
  },
  {
   "cell_type": "code",
   "execution_count": 1,
   "metadata": {},
   "outputs": [],
   "source": [
    "# Import necessary libraries\n",
    "import re\n",
    "import requests\n",
    "from bs4 import BeautifulSoup as bfs4\n",
    "import pandas as pd"
   ]
  },
  {
   "cell_type": "code",
   "execution_count": 72,
   "metadata": {},
   "outputs": [],
   "source": [
    "# Connect to Yahoo HK news to collect news headers.\n",
    "yhhknewsurl = requests.get('https://hk.news.yahoo.com').text\n",
    "soup = bfs4(yhhknewsurl, 'html.parser')\n",
    "headlines = soup.find_all('h3')\n",
    "\n",
    "news_headline = []\n",
    "\n",
    "for headline in headlines:\n",
    "    headline = str(headline)\n",
    "    header = re.findall('->((.*))<!',headline)\n",
    "    header.sort(reverse=True)\n",
    "    news_headline.append(header[0][1:])\n",
    "\n",
    "# Print news headers line by line.\n",
    "# for headline in headline_titles:\n",
    "#    print(headline)\n",
    "\n",
    "# Convert collected news headers to Pandas dataframes.\n",
    "news_df = pd.DataFrame(news_headline, columns=['News_Headline'])"
   ]
  },
  {
   "cell_type": "code",
   "execution_count": 73,
   "metadata": {},
   "outputs": [
    {
     "data": {
      "text/html": [
       "<div>\n",
       "<style scoped>\n",
       "    .dataframe tbody tr th:only-of-type {\n",
       "        vertical-align: middle;\n",
       "    }\n",
       "\n",
       "    .dataframe tbody tr th {\n",
       "        vertical-align: top;\n",
       "    }\n",
       "\n",
       "    .dataframe thead th {\n",
       "        text-align: right;\n",
       "    }\n",
       "</style>\n",
       "<table border=\"1\" class=\"dataframe\">\n",
       "  <thead>\n",
       "    <tr style=\"text-align: right;\">\n",
       "      <th></th>\n",
       "      <th>News_Headline</th>\n",
       "    </tr>\n",
       "  </thead>\n",
       "  <tbody>\n",
       "    <tr>\n",
       "      <th>0</th>\n",
       "      <td>回收消費券！市民套現或涉法律責任｜林日曦離毛記 稱無絕症非移民｜KOL家明狙擊193遭群攻「...</td>\n",
       "    </tr>\n",
       "    <tr>\n",
       "      <th>1</th>\n",
       "      <td>要求《造星4》參加者素顏面試  花姐呻質素好差 唔睇技巧睇性格</td>\n",
       "    </tr>\n",
       "    <tr>\n",
       "      <th>2</th>\n",
       "      <td>律師分析：最重判死刑  吳亦凡傳涉9宗罪  淚崩求放生</td>\n",
       "    </tr>\n",
       "    <tr>\n",
       "      <th>3</th>\n",
       "      <td>昨增3女輸入個案柬美抵港 均無病徵</td>\n",
       "    </tr>\n",
       "    <tr>\n",
       "      <th>4</th>\n",
       "      <td>全城狂熱消費  百物悄悄騰貴</td>\n",
       "    </tr>\n",
       "    <tr>\n",
       "      <th>5</th>\n",
       "      <td>【熱門】比較冷氣維修、安裝及清洗服務！搜尋安裝冷氣</td>\n",
       "    </tr>\n",
       "    <tr>\n",
       "      <th>6</th>\n",
       "      <td>林日曦辭毛記葵涌執董 800萬悉售持股</td>\n",
       "    </tr>\n",
       "    <tr>\n",
       "      <th>7</th>\n",
       "      <td>首期消費券110億到手刺激零售</td>\n",
       "    </tr>\n",
       "  </tbody>\n",
       "</table>\n",
       "</div>"
      ],
      "text/plain": [
       "                                       News_Headline\n",
       "0  回收消費券！市民套現或涉法律責任｜林日曦離毛記 稱無絕症非移民｜KOL家明狙擊193遭群攻「...\n",
       "1                    要求《造星4》參加者素顏面試  花姐呻質素好差 唔睇技巧睇性格\n",
       "2                        律師分析：最重判死刑  吳亦凡傳涉9宗罪  淚崩求放生\n",
       "3                                  昨增3女輸入個案柬美抵港 均無病徵\n",
       "4                                     全城狂熱消費  百物悄悄騰貴\n",
       "5                          【熱門】比較冷氣維修、安裝及清洗服務！搜尋安裝冷氣\n",
       "6                                林日曦辭毛記葵涌執董 800萬悉售持股\n",
       "7                                    首期消費券110億到手刺激零售"
      ]
     },
     "execution_count": 73,
     "metadata": {},
     "output_type": "execute_result"
    }
   ],
   "source": [
    "news_df.head(8)"
   ]
  },
  {
   "cell_type": "markdown",
   "metadata": {},
   "source": [
    "Text Analytics (Sentiment Analysis) of News headlines dataframe."
   ]
  },
  {
   "cell_type": "code",
   "execution_count": 74,
   "metadata": {},
   "outputs": [],
   "source": [
    "# Import necessary libraries\n",
    "from azure.ai.textanalytics import TextAnalyticsClient\n",
    "from azure.core.credentials import AzureKeyCredential"
   ]
  },
  {
   "cell_type": "code",
   "execution_count": 75,
   "metadata": {},
   "outputs": [],
   "source": [
    "# Define the service key and endpoint of Azure Text Analytics\n",
    "key = \"PLEASE_ENTER_YOUR_OWNED_AZURE_TEXT_ANALYTICS_SERVICE_KEY\"\n",
    "endpoint = \"https://PLEASE_ENTER_YOUR_OWNED_AZURE_TEXT_ANALYTICS_INSTANCE_NAME.cognitiveservices.azure.com/\""
   ]
  },
  {
   "cell_type": "code",
   "execution_count": 87,
   "metadata": {},
   "outputs": [
    {
     "name": "stdout",
     "output_type": "stream",
     "text": [
      "回收消費券！市民套現或涉法律責任｜林日曦離毛記 稱無絕症非移民｜KOL家明狙擊193遭群攻「辭職」｜8月2日．Yahoo早報\n",
      "Header Sentiment: neutral\n",
      "要求《造星4》參加者素顏面試  花姐呻質素好差 唔睇技巧睇性格\n",
      "Header Sentiment: negative\n",
      "律師分析：最重判死刑  吳亦凡傳涉9宗罪  淚崩求放生\n",
      "Header Sentiment: neutral\n",
      "昨增3女輸入個案柬美抵港 均無病徵\n",
      "Header Sentiment: neutral\n",
      "全城狂熱消費  百物悄悄騰貴\n",
      "Header Sentiment: neutral\n",
      "【熱門】比較冷氣維修、安裝及清洗服務！搜尋安裝冷氣\n",
      "Header Sentiment: positive\n",
      "林日曦辭毛記葵涌執董 800萬悉售持股\n",
      "Header Sentiment: neutral\n",
      "首期消費券110億到手刺激零售\n",
      "Header Sentiment: positive\n",
      "【人氣】✦進修✦怕犯職場英文常見錯誤畀人笑？立即搜尋英語課程\n",
      "Header Sentiment: negative\n",
      "領券首日  網上稱75折套現零風險  倘涉造假欺詐  需負法律責任\n",
      "Header Sentiment: negative\n",
      "港大獲研資局撥款  研新冠病毒學\n",
      "Header Sentiment: neutral\n",
      "【新聞點評】疫苗國際線失守 商界須長期抗戰\n",
      "Header Sentiment: neutral\n",
      "負壓系統頻頻出事  揭顯示器故障  北大嶼感染控制中心  警報又誤鳴\n",
      "Header Sentiment: negative\n",
      "【推介】花點心思，粉飾您的寫意空間！立即搜尋設計裝修\n",
      "Header Sentiment: positive\n",
      "每日30分鐘親子耍樂  有益兒童身心健康\n",
      "Header Sentiment: positive\n",
      "首航返港  公海遊防疫  宜緊不宜鬆\n",
      "Header Sentiment: negative\n",
      "領取消費券  拍卡搞掂  街坊興奮  「幾蚊都試用」\n",
      "Header Sentiment: negative\n",
      "【人氣】比較熱門進修課程！提升實力　迎接璀璨未來！立即搜尋課程進修\n",
      "Header Sentiment: positive\n",
      "涉派對房間犯禁 20人遭票控\n",
      "Header Sentiment: neutral\n",
      "承認疫苗難完全阻截病毒傳播 催谷長者打針 陳肇始繼續硬銷\n",
      "Header Sentiment: negative\n"
     ]
    }
   ],
   "source": [
    "ta_credential = AzureKeyCredential(key)\n",
    "text_analytics_client = TextAnalyticsClient(\n",
    "        endpoint=endpoint, \n",
    "        credential=ta_credential)\n",
    "client = text_analytics_client\n",
    "\n",
    "news_headline_sentiment = []\n",
    "\n",
    "for index, headers in news_df.iterrows():\n",
    "    news_headline = str(headers['News_Headline'])\n",
    "    print(news_headline)\n",
    "    documents = [news_headline]\n",
    "    response = client.analyze_sentiment(documents=documents, language=\"zh-hant\")[0]\n",
    "    sentiment = response.sentiment\n",
    "    print(\"Header Sentiment: {}\".format(sentiment))\n",
    "    news_headline_sentiment.append([news_headline, sentiment])\n",
    "\n",
    "# Convert collected news headers with sentiment to Pandas dataframes.\n",
    "news_df_with_sentiment = pd.DataFrame(news_headline_sentiment, columns=['News_Headline','Sentiment'])"
   ]
  },
  {
   "cell_type": "code",
   "execution_count": 91,
   "metadata": {},
   "outputs": [
    {
     "data": {
      "text/html": [
       "<div>\n",
       "<style scoped>\n",
       "    .dataframe tbody tr th:only-of-type {\n",
       "        vertical-align: middle;\n",
       "    }\n",
       "\n",
       "    .dataframe tbody tr th {\n",
       "        vertical-align: top;\n",
       "    }\n",
       "\n",
       "    .dataframe thead th {\n",
       "        text-align: right;\n",
       "    }\n",
       "</style>\n",
       "<table border=\"1\" class=\"dataframe\">\n",
       "  <thead>\n",
       "    <tr style=\"text-align: right;\">\n",
       "      <th></th>\n",
       "      <th>News_Headline</th>\n",
       "      <th>Sentiment</th>\n",
       "    </tr>\n",
       "  </thead>\n",
       "  <tbody>\n",
       "    <tr>\n",
       "      <th>0</th>\n",
       "      <td>回收消費券！市民套現或涉法律責任｜林日曦離毛記 稱無絕症非移民｜KOL家明狙擊193遭群攻「...</td>\n",
       "      <td>neutral</td>\n",
       "    </tr>\n",
       "    <tr>\n",
       "      <th>1</th>\n",
       "      <td>要求《造星4》參加者素顏面試  花姐呻質素好差 唔睇技巧睇性格</td>\n",
       "      <td>negative</td>\n",
       "    </tr>\n",
       "    <tr>\n",
       "      <th>2</th>\n",
       "      <td>律師分析：最重判死刑  吳亦凡傳涉9宗罪  淚崩求放生</td>\n",
       "      <td>neutral</td>\n",
       "    </tr>\n",
       "    <tr>\n",
       "      <th>3</th>\n",
       "      <td>昨增3女輸入個案柬美抵港 均無病徵</td>\n",
       "      <td>neutral</td>\n",
       "    </tr>\n",
       "    <tr>\n",
       "      <th>4</th>\n",
       "      <td>全城狂熱消費  百物悄悄騰貴</td>\n",
       "      <td>neutral</td>\n",
       "    </tr>\n",
       "    <tr>\n",
       "      <th>5</th>\n",
       "      <td>【熱門】比較冷氣維修、安裝及清洗服務！搜尋安裝冷氣</td>\n",
       "      <td>positive</td>\n",
       "    </tr>\n",
       "    <tr>\n",
       "      <th>6</th>\n",
       "      <td>林日曦辭毛記葵涌執董 800萬悉售持股</td>\n",
       "      <td>neutral</td>\n",
       "    </tr>\n",
       "    <tr>\n",
       "      <th>7</th>\n",
       "      <td>首期消費券110億到手刺激零售</td>\n",
       "      <td>positive</td>\n",
       "    </tr>\n",
       "  </tbody>\n",
       "</table>\n",
       "</div>"
      ],
      "text/plain": [
       "                                       News_Headline Sentiment\n",
       "0  回收消費券！市民套現或涉法律責任｜林日曦離毛記 稱無絕症非移民｜KOL家明狙擊193遭群攻「...   neutral\n",
       "1                    要求《造星4》參加者素顏面試  花姐呻質素好差 唔睇技巧睇性格  negative\n",
       "2                        律師分析：最重判死刑  吳亦凡傳涉9宗罪  淚崩求放生   neutral\n",
       "3                                  昨增3女輸入個案柬美抵港 均無病徵   neutral\n",
       "4                                     全城狂熱消費  百物悄悄騰貴   neutral\n",
       "5                          【熱門】比較冷氣維修、安裝及清洗服務！搜尋安裝冷氣  positive\n",
       "6                                林日曦辭毛記葵涌執董 800萬悉售持股   neutral\n",
       "7                                    首期消費券110億到手刺激零售  positive"
      ]
     },
     "execution_count": 91,
     "metadata": {},
     "output_type": "execute_result"
    }
   ],
   "source": [
    "news_df_with_sentiment.head(8)"
   ]
  },
  {
   "cell_type": "code",
   "execution_count": 99,
   "metadata": {},
   "outputs": [
    {
     "data": {
      "text/plain": [
       "<AxesSubplot:ylabel='News_Headline'>"
      ]
     },
     "execution_count": 99,
     "metadata": {},
     "output_type": "execute_result"
    },
    {
     "data": {
      "image/png": "[encoded data removed]",
      "text/plain": [
       "<Figure size 576x576 with 1 Axes>"
      ]
     },
     "metadata": {},
     "output_type": "display_data"
    }
   ],
   "source": [
    "news_df_with_sentiment.groupby(['Sentiment']).count().plot(kind='pie', y='News_Headline', figsize=(8,8), autopct='%1.1f%%')"
   ]
  }
 ],
 "metadata": {
  "kernelspec": {
   "display_name": "Python 3",
   "language": "python",
   "name": "python3"
  },
  "language_info": {
   "codemirror_mode": {
    "name": "ipython",
    "version": 3
   },
   "file_extension": ".py",
   "mimetype": "text/x-python",
   "name": "python",
   "nbconvert_exporter": "python",
   "pygments_lexer": "ipython3",
   "version": "3.8.8"
  }
 },
 "nbformat": 4,
 "nbformat_minor": 4
}
