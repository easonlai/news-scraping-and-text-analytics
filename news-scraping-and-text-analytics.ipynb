{
 "cells": [
  {
   "cell_type": "code",
   "execution_count": 278,
   "metadata": {},
   "outputs": [],
   "source": [
    "# Import necessary libraries\n",
    "import re\n",
    "import requests\n",
    "from bs4 import BeautifulSoup as bfs4\n",
    "import pandas as pd"
   ]
  },
  {
   "cell_type": "code",
   "execution_count": 335,
   "metadata": {},
   "outputs": [],
   "source": [
    "# Connect to Yahoo HK news to collect news content headers.\n",
    "yhhknewsurl = requests.get('https://hk.news.yahoo.com').text\n",
    "soup = bfs4(yhhknewsurl, 'html.parser')\n",
    "headlines = soup.find_all('h3')\n",
    "\n",
    "headline_titles = []\n",
    "\n",
    "for headline in headlines:\n",
    "    headline = str(headline)\n",
    "    header = re.findall('->((.*))<!',headline)\n",
    "    header.sort(reverse=True)\n",
    "    headline_titles.append(header[0][1:])\n",
    "\n",
    "# Print news headers line by line.\n",
    "# for headline in headline_titles:\n",
    "#    print(headline)\n",
    "\n",
    "# Convert collected news headers to Pandas dataframes.\n",
    "news_df = pd.DataFrame(headline_titles, columns=['News_Header'])"
   ]
  },
  {
   "cell_type": "code",
   "execution_count": 338,
   "metadata": {},
   "outputs": [
    {
     "data": {
      "text/html": [
       "<div>\n",
       "<style scoped>\n",
       "    .dataframe tbody tr th:only-of-type {\n",
       "        vertical-align: middle;\n",
       "    }\n",
       "\n",
       "    .dataframe tbody tr th {\n",
       "        vertical-align: top;\n",
       "    }\n",
       "\n",
       "    .dataframe thead th {\n",
       "        text-align: right;\n",
       "    }\n",
       "</style>\n",
       "<table border=\"1\" class=\"dataframe\">\n",
       "  <thead>\n",
       "    <tr style=\"text-align: right;\">\n",
       "      <th></th>\n",
       "      <th>News_Header</th>\n",
       "    </tr>\n",
       "  </thead>\n",
       "  <tbody>\n",
       "    <tr>\n",
       "      <th>0</th>\n",
       "      <td>驟雨雷暴持續　明有短暫陽光最低氣溫27°C</td>\n",
       "    </tr>\n",
       "    <tr>\n",
       "      <th>1</th>\n",
       "      <td>8月1日全球新冠肺炎疫情最新數字</td>\n",
       "    </tr>\n",
       "    <tr>\n",
       "      <th>2</th>\n",
       "      <td>八達通強調商戶只可收取貨品實際價錢　不能收額外費用</td>\n",
       "    </tr>\n",
       "    <tr>\n",
       "      <th>3</th>\n",
       "      <td>【8月1日疫情速報】(22:50)</td>\n",
       "    </tr>\n",
       "    <tr>\n",
       "      <th>4</th>\n",
       "      <td>有裝八達通機的酒樓稱　整日近三成生意額由消費券支付</td>\n",
       "    </tr>\n",
       "    <tr>\n",
       "      <th>5</th>\n",
       "      <td>今日有逾5.5萬人接種新冠疫苗</td>\n",
       "    </tr>\n",
       "    <tr>\n",
       "      <th>6</th>\n",
       "      <td>壹傳媒工會昨正式解散　理事將續跟進離職補償問題</td>\n",
       "    </tr>\n",
       "    <tr>\n",
       "      <th>7</th>\n",
       "      <td>陳茂波籲用消費劵帶動經濟　特首亦鼓勵市民開心消費</td>\n",
       "    </tr>\n",
       "  </tbody>\n",
       "</table>\n",
       "</div>"
      ],
      "text/plain": [
       "                 News_Header\n",
       "0      驟雨雷暴持續　明有短暫陽光最低氣溫27°C\n",
       "1           8月1日全球新冠肺炎疫情最新數字\n",
       "2  八達通強調商戶只可收取貨品實際價錢　不能收額外費用\n",
       "3          【8月1日疫情速報】(22:50)\n",
       "4  有裝八達通機的酒樓稱　整日近三成生意額由消費券支付\n",
       "5            今日有逾5.5萬人接種新冠疫苗\n",
       "6    壹傳媒工會昨正式解散　理事將續跟進離職補償問題\n",
       "7   陳茂波籲用消費劵帶動經濟　特首亦鼓勵市民開心消費"
      ]
     },
     "execution_count": 338,
     "metadata": {},
     "output_type": "execute_result"
    }
   ],
   "source": [
    "news_df.head(8)"
   ]
  },
  {
   "cell_type": "code",
   "execution_count": null,
   "metadata": {},
   "outputs": [],
   "source": []
  }
 ],
 "metadata": {
  "kernelspec": {
   "display_name": "Python 3",
   "language": "python",
   "name": "python3"
  },
  "language_info": {
   "codemirror_mode": {
    "name": "ipython",
    "version": 3
   },
   "file_extension": ".py",
   "mimetype": "text/x-python",
   "name": "python",
   "nbconvert_exporter": "python",
   "pygments_lexer": "ipython3",
   "version": "3.8.3"
  }
 },
 "nbformat": 4,
 "nbformat_minor": 4
}
